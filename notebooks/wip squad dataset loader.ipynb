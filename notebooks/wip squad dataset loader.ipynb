{
 "cells": [
  {
   "cell_type": "code",
   "execution_count": 1,
   "id": "b3d81586-9b71-4b53-b06c-97fa89692913",
   "metadata": {},
   "outputs": [],
   "source": [
    "from datasets import load_dataset"
   ]
  },
  {
   "cell_type": "code",
   "execution_count": 2,
   "id": "6391281e-b093-4135-bacd-4bc1cdac21fa",
   "metadata": {},
   "outputs": [],
   "source": [
    "from llama_index.vector_stores.chroma import ChromaVectorStore"
   ]
  },
  {
   "cell_type": "code",
   "execution_count": 7,
   "id": "0f7570e3-6521-4e2a-862a-f8f3a8a3b43a",
   "metadata": {},
   "outputs": [],
   "source": [
    "from llama_index.core.indices.vector_store import VectorStoreIndex\n",
    "from llama_index.core.schema import Document"
   ]
  },
  {
   "cell_type": "code",
   "execution_count": null,
   "id": "d15a3fa6-a4d9-4cb3-8124-cace0f8fbee9",
   "metadata": {},
   "outputs": [],
   "source": [
    "import google.protobuf"
   ]
  },
  {
   "cell_type": "code",
   "execution_count": null,
   "id": "977fd036-38a5-48f0-93fc-4708332fa29e",
   "metadata": {},
   "outputs": [],
   "source": [
    "print(google.protobuf.__version__)"
   ]
  },
  {
   "cell_type": "code",
   "execution_count": 10,
   "id": "40460e53-794b-441d-8d10-25614ba5950b",
   "metadata": {},
   "outputs": [
    {
     "data": {
      "text/plain": [
       "'/mnt/f/chatbot_ui/notebooks'"
      ]
     },
     "execution_count": 10,
     "metadata": {},
     "output_type": "execute_result"
    }
   ],
   "source": [
    "pwd"
   ]
  },
  {
   "cell_type": "code",
   "execution_count": 12,
   "id": "c5ab7a16-06b4-44c7-9a66-5234b100a719",
   "metadata": {},
   "outputs": [
    {
     "data": {
      "text/plain": [
       "'/mnt/f/chatbot_ui/notebooks'"
      ]
     },
     "execution_count": 12,
     "metadata": {},
     "output_type": "execute_result"
    }
   ],
   "source": [
    "import os\n",
    "os.getcwd()"
   ]
  },
  {
   "cell_type": "code",
   "execution_count": 14,
   "id": "c9046d4b-aa04-4a84-a706-2504342e9d60",
   "metadata": {},
   "outputs": [],
   "source": [
    "from pathlib import Path"
   ]
  },
  {
   "cell_type": "code",
   "execution_count": 17,
   "id": "731142ed-4abd-4872-968d-f885787f159f",
   "metadata": {},
   "outputs": [
    {
     "name": "stdout",
     "output_type": "stream",
     "text": [
      "/mnt/f/chatbot_ui\n",
      "/mnt/f\n",
      "/mnt\n",
      "/\n"
     ]
    }
   ],
   "source": [
    "for i in Path(os.getcwd()).parents:\n",
    "    print(i)"
   ]
  },
  {
   "cell_type": "code",
   "execution_count": 22,
   "id": "f9faec15-8643-4e74-a173-02b2d275817a",
   "metadata": {},
   "outputs": [],
   "source": [
    "DATA_DIR = os.path.join(Path(os.getcwd()).parents[0], 'local_only', 'data')\n",
    "os.makedirs(DATA_DIR, exist_ok=True)"
   ]
  },
  {
   "cell_type": "code",
   "execution_count": 8,
   "id": "01317dfd-0857-4074-bbe3-d8e24b74f840",
   "metadata": {},
   "outputs": [],
   "source": [
    "from datasets import load_dataset"
   ]
  },
  {
   "cell_type": "code",
   "execution_count": 24,
   "id": "4280489e-7def-40ad-8d58-7ff9afb3554b",
   "metadata": {},
   "outputs": [
    {
     "data": {
      "application/vnd.jupyter.widget-view+json": {
       "model_id": "a48dfca9e47b49b591b5f1a34e116720",
       "version_major": 2,
       "version_minor": 0
      },
      "text/plain": [
       "README.md: 0.00B [00:00, ?B/s]"
      ]
     },
     "metadata": {},
     "output_type": "display_data"
    },
    {
     "data": {
      "application/vnd.jupyter.widget-view+json": {
       "model_id": "c984afbc2c1047b0bcef2ac00789f5b6",
       "version_major": 2,
       "version_minor": 0
      },
      "text/plain": [
       "train-00000-of-00001.parquet:   0%|          | 0.00/16.4M [00:00<?, ?B/s]"
      ]
     },
     "metadata": {},
     "output_type": "display_data"
    },
    {
     "data": {
      "application/vnd.jupyter.widget-view+json": {
       "model_id": "b0bad25cc18e4969b0f6291fda4561c8",
       "version_major": 2,
       "version_minor": 0
      },
      "text/plain": [
       "validation-00000-of-00001.parquet:   0%|          | 0.00/1.35M [00:00<?, ?B/s]"
      ]
     },
     "metadata": {},
     "output_type": "display_data"
    },
    {
     "data": {
      "application/vnd.jupyter.widget-view+json": {
       "model_id": "550fb93ca0f14d1ea9c7a98056e8431d",
       "version_major": 2,
       "version_minor": 0
      },
      "text/plain": [
       "Generating train split:   0%|          | 0/130319 [00:00<?, ? examples/s]"
      ]
     },
     "metadata": {},
     "output_type": "display_data"
    },
    {
     "data": {
      "application/vnd.jupyter.widget-view+json": {
       "model_id": "49da22f5d02f46aca9d8bdc92a4e8649",
       "version_major": 2,
       "version_minor": 0
      },
      "text/plain": [
       "Generating validation split:   0%|          | 0/11873 [00:00<?, ? examples/s]"
      ]
     },
     "metadata": {},
     "output_type": "display_data"
    },
    {
     "name": "stdout",
     "output_type": "stream",
     "text": [
      "CPU times: user 1.85 s, sys: 187 ms, total: 2.04 s\n",
      "Wall time: 6.35 s\n"
     ]
    }
   ],
   "source": [
    "%%time\n",
    "dataset = load_dataset(\"rajpurkar/squad_v2\", cache_dir = DATA_DIR)"
   ]
  },
  {
   "cell_type": "code",
   "execution_count": 25,
   "id": "d0aa8c92-f9ea-40d2-b492-86bbba2bf86c",
   "metadata": {},
   "outputs": [
    {
     "data": {
      "text/plain": [
       "DatasetDict({\n",
       "    train: Dataset({\n",
       "        features: ['id', 'title', 'context', 'question', 'answers'],\n",
       "        num_rows: 130319\n",
       "    })\n",
       "    validation: Dataset({\n",
       "        features: ['id', 'title', 'context', 'question', 'answers'],\n",
       "        num_rows: 11873\n",
       "    })\n",
       "})"
      ]
     },
     "execution_count": 25,
     "metadata": {},
     "output_type": "execute_result"
    }
   ],
   "source": [
    "dataset"
   ]
  },
  {
   "cell_type": "code",
   "execution_count": 29,
   "id": "9c704dd6-2bb8-44b0-838d-c27a7898817d",
   "metadata": {},
   "outputs": [
    {
     "data": {
      "text/plain": [
       "Dataset({\n",
       "    features: ['id', 'title', 'context', 'question', 'answers'],\n",
       "    num_rows: 130319\n",
       "})"
      ]
     },
     "execution_count": 29,
     "metadata": {},
     "output_type": "execute_result"
    }
   ],
   "source": [
    "dataset['train']"
   ]
  },
  {
   "cell_type": "code",
   "execution_count": 65,
   "id": "b257d8a2-4968-44f6-acf6-5bd9ba0eeee8",
   "metadata": {},
   "outputs": [
    {
     "data": {
      "text/plain": [
       "{'id': '56be85543aeaaa14008c9065',\n",
       " 'title': 'Beyoncé',\n",
       " 'context': 'Beyoncé Giselle Knowles-Carter (/biːˈjɒnseɪ/ bee-YON-say) (born September 4, 1981) is an American singer, songwriter, record producer and actress. Born and raised in Houston, Texas, she performed in various singing and dancing competitions as a child, and rose to fame in the late 1990s as lead singer of R&B girl-group Destiny\\'s Child. Managed by her father, Mathew Knowles, the group became one of the world\\'s best-selling girl groups of all time. Their hiatus saw the release of Beyoncé\\'s debut album, Dangerously in Love (2003), which established her as a solo artist worldwide, earned five Grammy Awards and featured the Billboard Hot 100 number-one singles \"Crazy in Love\" and \"Baby Boy\".',\n",
       " 'question': 'What areas did Beyonce compete in when she was growing up?',\n",
       " 'answers': {'text': ['singing and dancing'], 'answer_start': [207]}}"
      ]
     },
     "execution_count": 65,
     "metadata": {},
     "output_type": "execute_result"
    }
   ],
   "source": [
    "dataset['train'][1]"
   ]
  },
  {
   "cell_type": "code",
   "execution_count": 67,
   "id": "eb91979c-27fb-4c05-9691-ae0870766717",
   "metadata": {},
   "outputs": [],
   "source": [
    "import pandas as pd\n",
    "df = pd.DataFrame(dataset['train'])"
   ]
  },
  {
   "cell_type": "code",
   "execution_count": 68,
   "id": "89fa882d-2b53-4442-9d2a-0bc3266f04af",
   "metadata": {},
   "outputs": [
    {
     "data": {
      "text/html": [
       "<div>\n",
       "<style scoped>\n",
       "    .dataframe tbody tr th:only-of-type {\n",
       "        vertical-align: middle;\n",
       "    }\n",
       "\n",
       "    .dataframe tbody tr th {\n",
       "        vertical-align: top;\n",
       "    }\n",
       "\n",
       "    .dataframe thead th {\n",
       "        text-align: right;\n",
       "    }\n",
       "</style>\n",
       "<table border=\"1\" class=\"dataframe\">\n",
       "  <thead>\n",
       "    <tr style=\"text-align: right;\">\n",
       "      <th></th>\n",
       "      <th>id</th>\n",
       "      <th>title</th>\n",
       "      <th>context</th>\n",
       "      <th>question</th>\n",
       "      <th>answers</th>\n",
       "    </tr>\n",
       "  </thead>\n",
       "  <tbody>\n",
       "    <tr>\n",
       "      <th>0</th>\n",
       "      <td>56be85543aeaaa14008c9063</td>\n",
       "      <td>Beyoncé</td>\n",
       "      <td>Beyoncé Giselle Knowles-Carter (/biːˈjɒnseɪ/ b...</td>\n",
       "      <td>When did Beyonce start becoming popular?</td>\n",
       "      <td>{'text': ['in the late 1990s'], 'answer_start'...</td>\n",
       "    </tr>\n",
       "    <tr>\n",
       "      <th>1</th>\n",
       "      <td>56be85543aeaaa14008c9065</td>\n",
       "      <td>Beyoncé</td>\n",
       "      <td>Beyoncé Giselle Knowles-Carter (/biːˈjɒnseɪ/ b...</td>\n",
       "      <td>What areas did Beyonce compete in when she was...</td>\n",
       "      <td>{'text': ['singing and dancing'], 'answer_star...</td>\n",
       "    </tr>\n",
       "    <tr>\n",
       "      <th>2</th>\n",
       "      <td>56be85543aeaaa14008c9066</td>\n",
       "      <td>Beyoncé</td>\n",
       "      <td>Beyoncé Giselle Knowles-Carter (/biːˈjɒnseɪ/ b...</td>\n",
       "      <td>When did Beyonce leave Destiny's Child and bec...</td>\n",
       "      <td>{'text': ['2003'], 'answer_start': [526]}</td>\n",
       "    </tr>\n",
       "    <tr>\n",
       "      <th>3</th>\n",
       "      <td>56bf6b0f3aeaaa14008c9601</td>\n",
       "      <td>Beyoncé</td>\n",
       "      <td>Beyoncé Giselle Knowles-Carter (/biːˈjɒnseɪ/ b...</td>\n",
       "      <td>In what city and state did Beyonce  grow up?</td>\n",
       "      <td>{'text': ['Houston, Texas'], 'answer_start': [...</td>\n",
       "    </tr>\n",
       "    <tr>\n",
       "      <th>4</th>\n",
       "      <td>56bf6b0f3aeaaa14008c9602</td>\n",
       "      <td>Beyoncé</td>\n",
       "      <td>Beyoncé Giselle Knowles-Carter (/biːˈjɒnseɪ/ b...</td>\n",
       "      <td>In which decade did Beyonce become famous?</td>\n",
       "      <td>{'text': ['late 1990s'], 'answer_start': [276]}</td>\n",
       "    </tr>\n",
       "  </tbody>\n",
       "</table>\n",
       "</div>"
      ],
      "text/plain": [
       "                         id    title  \\\n",
       "0  56be85543aeaaa14008c9063  Beyoncé   \n",
       "1  56be85543aeaaa14008c9065  Beyoncé   \n",
       "2  56be85543aeaaa14008c9066  Beyoncé   \n",
       "3  56bf6b0f3aeaaa14008c9601  Beyoncé   \n",
       "4  56bf6b0f3aeaaa14008c9602  Beyoncé   \n",
       "\n",
       "                                             context  \\\n",
       "0  Beyoncé Giselle Knowles-Carter (/biːˈjɒnseɪ/ b...   \n",
       "1  Beyoncé Giselle Knowles-Carter (/biːˈjɒnseɪ/ b...   \n",
       "2  Beyoncé Giselle Knowles-Carter (/biːˈjɒnseɪ/ b...   \n",
       "3  Beyoncé Giselle Knowles-Carter (/biːˈjɒnseɪ/ b...   \n",
       "4  Beyoncé Giselle Knowles-Carter (/biːˈjɒnseɪ/ b...   \n",
       "\n",
       "                                            question  \\\n",
       "0           When did Beyonce start becoming popular?   \n",
       "1  What areas did Beyonce compete in when she was...   \n",
       "2  When did Beyonce leave Destiny's Child and bec...   \n",
       "3      In what city and state did Beyonce  grow up?    \n",
       "4         In which decade did Beyonce become famous?   \n",
       "\n",
       "                                             answers  \n",
       "0  {'text': ['in the late 1990s'], 'answer_start'...  \n",
       "1  {'text': ['singing and dancing'], 'answer_star...  \n",
       "2          {'text': ['2003'], 'answer_start': [526]}  \n",
       "3  {'text': ['Houston, Texas'], 'answer_start': [...  \n",
       "4    {'text': ['late 1990s'], 'answer_start': [276]}  "
      ]
     },
     "execution_count": 68,
     "metadata": {},
     "output_type": "execute_result"
    }
   ],
   "source": [
    "df.head()"
   ]
  },
  {
   "cell_type": "code",
   "execution_count": 69,
   "id": "8d523800-a0fc-4658-8d52-37fffacce56b",
   "metadata": {},
   "outputs": [
    {
     "data": {
      "text/plain": [
       "442"
      ]
     },
     "execution_count": 69,
     "metadata": {},
     "output_type": "execute_result"
    }
   ],
   "source": [
    "df.title.nunique()"
   ]
  },
  {
   "cell_type": "code",
   "execution_count": 70,
   "id": "d36c2a5c-8416-4d8c-98ac-c874bf26cea3",
   "metadata": {},
   "outputs": [
    {
     "data": {
      "text/plain": [
       "array(['Beyoncé', 'Frédéric_Chopin',\n",
       "       'Sino-Tibetan_relations_during_the_Ming_dynasty', 'IPod',\n",
       "       'The_Legend_of_Zelda:_Twilight_Princess', 'Spectre_(2015_film)',\n",
       "       '2008_Sichuan_earthquake', 'New_York_City',\n",
       "       'To_Kill_a_Mockingbird', 'Solar_energy', 'Kanye_West', 'Buddhism',\n",
       "       'American_Idol', 'Dog', '2008_Summer_Olympics_torch_relay',\n",
       "       'Genome', 'Comprehensive_school', 'Republic_of_the_Congo',\n",
       "       'Prime_minister', 'Institute_of_technology', 'Wayback_Machine',\n",
       "       'Dutch_Republic', 'Symbiosis', 'Canadian_Armed_Forces',\n",
       "       'Cardinal_(Catholicism)', 'Iranian_languages', 'Lighting',\n",
       "       'Separation_of_powers_under_the_United_States_Constitution',\n",
       "       'Architecture', 'Human_Development_Index', 'Southern_Europe',\n",
       "       'BBC_Television', 'Arnold_Schwarzenegger', 'Plymouth', 'Heresy',\n",
       "       'Warsaw_Pact', 'Materialism', 'Christian',\n",
       "       'Sony_Music_Entertainment', 'Oklahoma_City', 'Hunter-gatherer',\n",
       "       'United_Nations_Population_Fund',\n",
       "       'Russian_Soviet_Federative_Socialist_Republic',\n",
       "       'Alexander_Graham_Bell', 'Pub', 'Internet_service_provider',\n",
       "       'Comics', 'Saint_Helena', 'Aspirated_consonant', 'Hydrogen',\n",
       "       'Space_Race', 'Web_browser', 'BeiDou_Navigation_Satellite_System',\n",
       "       'Canon_law', 'Communications_in_Somalia', 'Catalan_language',\n",
       "       'Boston', 'Universal_Studios', 'Estonian_language', 'Paper',\n",
       "       'Adult_contemporary_music', 'Daylight_saving_time',\n",
       "       'Royal_Institute_of_British_Architects',\n",
       "       'National_Archives_and_Records_Administration', 'Tristan_da_Cunha',\n",
       "       'University_of_Kansas', 'Nanjing', 'Arena_Football_League',\n",
       "       'Dialect', 'Bern', 'Westminster_Abbey', 'Political_corruption',\n",
       "       'Classical_music', 'Slavs', 'Southampton', 'Treaty',\n",
       "       'Josip_Broz_Tito', 'Marshall_Islands', 'Szlachta', 'Virgil',\n",
       "       'Alps', 'Gene', 'Guinea-Bissau',\n",
       "       'List_of_numbered_streets_in_Manhattan', 'Brain', 'Near_East',\n",
       "       'Zhejiang', 'Ministry_of_Defence_(United_Kingdom)',\n",
       "       'High-definition_television', 'Wood', 'Somalis', 'Middle_Ages',\n",
       "       'Phonology', 'Computer', 'Black_people', 'The_Times', 'New_Delhi',\n",
       "       'Bird_migration', 'Atlantic_City,_New_Jersey', 'Immunology', 'MP3',\n",
       "       'House_music', 'Letter_case', 'Chihuahua_(state)',\n",
       "       'Imamah_(Shia_doctrine)', 'Pitch_(music)',\n",
       "       'England_national_football_team', 'Houston', 'Copper',\n",
       "       'Identity_(social_science)', 'Himachal_Pradesh', 'Communication',\n",
       "       'Grape', 'Computer_security', 'Orthodox_Judaism', 'Animal', 'Beer',\n",
       "       'Race_and_ethnicity_in_the_United_States_Census',\n",
       "       'United_States_dollar', 'Imperial_College_London', 'Hanover',\n",
       "       'Emotion', 'Everton_F.C.', 'Old_English', 'Aircraft_carrier',\n",
       "       'Federal_Aviation_Administration', 'Lancashire', 'Mesozoic',\n",
       "       'Videoconferencing', 'Gregorian_calendar', 'Xbox_360',\n",
       "       'Military_history_of_the_United_States', 'Hard_rock',\n",
       "       'Great_Plains', 'Infrared', 'Biodiversity', 'ASCII', 'Digestion',\n",
       "       'Gymnastics', 'FC_Barcelona', 'Federal_Bureau_of_Investigation',\n",
       "       'Mary_(mother_of_Jesus)', 'Melbourne', 'John,_King_of_England',\n",
       "       'Macintosh', 'Anti-aircraft_warfare', 'Sanskrit', 'Valencia',\n",
       "       'General_Electric', 'United_States_Army', 'Franco-Prussian_War',\n",
       "       'Adolescence', 'Antarctica', 'Eritrea', 'Uranium',\n",
       "       'Order_of_the_British_Empire', 'Circadian_rhythm', 'Elizabeth_II',\n",
       "       'Sexual_orientation', 'Dell',\n",
       "       'Capital_punishment_in_the_United_States', 'Age_of_Enlightenment',\n",
       "       'Nintendo_Entertainment_System', 'Athanasius_of_Alexandria',\n",
       "       'Seattle', 'Memory', 'Multiracial_American', 'Ashkenazi_Jews',\n",
       "       'Pharmaceutical_industry', 'Umayyad_Caliphate', 'Asphalt',\n",
       "       'Queen_Victoria', 'Freemasonry', 'Israel', 'Hellenistic_period',\n",
       "       'Bill_%26_Melinda_Gates_Foundation', 'Montevideo', 'Poultry',\n",
       "       'Dutch_language', 'Buckingham_Palace', 'Incandescent_light_bulb',\n",
       "       'Arsenal_F.C.', 'Clothing', 'Chicago_Cubs', 'Korean_War',\n",
       "       'Copyright_infringement', 'Greece', 'Royal_Dutch_Shell', 'Mammal',\n",
       "       'East_India_Company', 'Hokkien', 'Professional_wrestling',\n",
       "       'Film_speed', 'Mexico_City', 'Napoleon', 'Germans',\n",
       "       'Southeast_Asia', 'Brigham_Young_University', 'Department_store',\n",
       "       'Intellectual_property', 'Florida', 'Queen_(band)',\n",
       "       'Presbyterianism', 'Thuringia', 'Predation', 'Marvel_Comics',\n",
       "       'British_Empire', 'Botany', 'Madonna_(entertainer)',\n",
       "       'Law_of_the_United_States', 'Myanmar', 'Jews', 'Cotton',\n",
       "       'Data_compression', 'The_Sun_(United_Kingdom)', 'Pesticide',\n",
       "       'Somerset', 'Yale_University', 'Late_Middle_Ages',\n",
       "       'Ann_Arbor,_Michigan', 'Gothic_architecture', 'Cubism',\n",
       "       'Political_philosophy', 'Alloy', 'Norfolk_Island', 'Edmund_Burke',\n",
       "       'Samoa', 'Pope_Paul_VI', 'Electric_motor', 'Switzerland', 'Mali',\n",
       "       'Raleigh,_North_Carolina', 'Nutrition', 'Crimean_War',\n",
       "       'Nonprofit_organization', 'Literature', 'Avicenna',\n",
       "       'Chinese_characters', 'Bermuda', 'Nigeria', 'Utrecht',\n",
       "       'Molotov%E2%80%93Ribbentrop_Pact', 'Capacitor',\n",
       "       'History_of_science', 'Digimon', 'Glacier', 'Comcast',\n",
       "       'Tuberculosis', 'Affirmative_action_in_the_United_States',\n",
       "       'FA_Cup', 'New_Haven,_Connecticut', 'Alsace', 'Carnival',\n",
       "       'Baptists', 'Child_labour', 'North_Carolina', 'Heian_period',\n",
       "       'On_the_Origin_of_Species', 'Dissolution_of_the_Soviet_Union',\n",
       "       'Crucifixion_of_Jesus', 'Supreme_court', 'Textual_criticism',\n",
       "       'Gramophone_record', 'Turner_Classic_Movies', 'Hindu_philosophy',\n",
       "       'Political_party', 'A_cappella', 'Dominican_Order', 'Eton_College',\n",
       "       'Cork_(city)', 'Galicia_(Spain)', 'USB', 'Sichuan', 'Unicode',\n",
       "       'Detroit', 'London', 'Culture', 'Sahara', 'Rule_of_law', 'Tibet',\n",
       "       'Exhibition_game', 'Northwestern_University', 'Strasbourg',\n",
       "       'Oklahoma', 'History_of_India', 'Gamal_Abdel_Nasser',\n",
       "       'Pope_John_XXIII', 'Time', 'European_Central_Bank',\n",
       "       'St._John%27s,_Newfoundland_and_Labrador', 'John_von_Neumann',\n",
       "       'PlayStation_3', 'Royal_assent', 'Group_(mathematics)',\n",
       "       'Central_African_Republic', 'Asthma', 'LaserDisc', 'George_VI',\n",
       "       'Federalism', 'Annelid', 'God', 'War_on_Terror',\n",
       "       'Labour_Party_(UK)', 'Estonia', 'Alaska', 'Karl_Popper',\n",
       "       'Mandolin', 'Insect', 'Race_(human_categorization)', 'Paris',\n",
       "       'Apollo', 'United_States_presidential_election,_2004',\n",
       "       'Liberal_Party_of_Australia', 'Samurai', 'Software_testing',\n",
       "       'States_of_Germany', 'Glass', 'Planck_constant',\n",
       "       'Renewable_energy_commercialization', 'Palermo', 'Green', 'Zinc',\n",
       "       'Neoclassical_architecture', 'Serbo-Croatian', 'CBC_Television',\n",
       "       'Appalachian_Mountains', 'IBM', 'Energy', 'East_Prussia',\n",
       "       'Ottoman_Empire', 'Philosophy_of_space_and_time', 'Neolithic',\n",
       "       'Friedrich_Hayek', 'Diarrhea', 'Madrasa', 'Miami', 'Philadelphia',\n",
       "       'John_Kerry', 'Rajasthan', 'Guam', 'Empiricism', 'Idealism',\n",
       "       'Czech_language', 'Education', 'Tennessee', 'Post-punk',\n",
       "       'Canadian_football', 'Seven_Years%27_War', 'Richard_Feynman',\n",
       "       'Muammar_Gaddafi', 'Cyprus', 'Steven_Spielberg', 'Elevator',\n",
       "       'Neptune', 'Railway_electrification_system',\n",
       "       'Spanish_language_in_the_United_States',\n",
       "       'Charleston,_South_Carolina', 'The_Blitz',\n",
       "       'Endangered_Species_Act', 'Vacuum', 'Han_dynasty', 'Quran',\n",
       "       'Geography_of_the_United_States', 'Compact_disc', 'Transistor',\n",
       "       'Modern_history', '51st_state', 'Antenna_(radio)',\n",
       "       'Flowering_plant', 'Hyderabad', 'Santa_Monica,_California',\n",
       "       'Washington_University_in_St._Louis',\n",
       "       'Central_Intelligence_Agency', 'Pain', 'Database',\n",
       "       'Tucson,_Arizona', 'Armenia', 'Bacteria', 'Printed_circuit_board',\n",
       "       'Greeks', 'Premier_League', 'Roman_Republic', 'Pacific_War',\n",
       "       'San_Diego', 'Muslim_world', 'Iran', 'British_Isles',\n",
       "       'Association_football', 'Georgian_architecture', 'Liberia',\n",
       "       'Alfred_North_Whitehead', 'Antibiotics', 'Windows_8', 'Swaziland',\n",
       "       'Translation', 'Airport', 'Kievan_Rus%27',\n",
       "       'Super_Nintendo_Entertainment_System', 'Sumer', 'Tuvalu',\n",
       "       'Immaculate_Conception', 'Namibia', 'Russian_language',\n",
       "       'United_States_Air_Force', 'Light-emitting_diode', 'Great_power',\n",
       "       'Bird', 'Qing_dynasty', 'Indigenous_peoples_of_the_Americas',\n",
       "       'Red', 'Egypt', 'Mosaic', 'University', 'Religion_in_ancient_Rome',\n",
       "       'YouTube', 'Separation_of_church_and_state_in_the_United_States',\n",
       "       'Protestantism', 'Bras%C3%ADlia', 'Economy_of_Greece',\n",
       "       'Party_leaders_of_the_United_States_House_of_Representatives',\n",
       "       'Armenians', 'Jehovah%27s_Witnesses', 'Dwight_D._Eisenhower',\n",
       "       'The_Bronx', 'Financial_crisis_of_2007%E2%80%9308', 'Portugal',\n",
       "       'Humanism', 'Geological_history_of_Earth', 'Police', 'Genocide',\n",
       "       'Saint_Barth%C3%A9lemy', 'Tajikistan', 'University_of_Notre_Dame',\n",
       "       'Anthropology', 'Montana', 'Punjab,_Pakistan',\n",
       "       'Richmond,_Virginia', 'Infection', 'Hunting', 'Kathmandu',\n",
       "       'Myocardial_infarction', 'Matter'], dtype=object)"
      ]
     },
     "execution_count": 70,
     "metadata": {},
     "output_type": "execute_result"
    }
   ],
   "source": [
    "df.title.unique()"
   ]
  },
  {
   "cell_type": "code",
   "execution_count": 48,
   "id": "44197a41-7a6b-462d-948a-9436876aeed2",
   "metadata": {},
   "outputs": [],
   "source": [
    "documents = []\n",
    "for i in dataset['train'].select(range(500)):\n",
    "    item = dict(i)\n",
    "    context = item.pop('context')\n",
    "    metadata  = item\n",
    "    documents.append(Document(text=context, metadata=metadata))"
   ]
  },
  {
   "cell_type": "code",
   "execution_count": 71,
   "id": "957477ed-cc02-4c1e-ba87-059a7d4328f3",
   "metadata": {},
   "outputs": [
    {
     "data": {
      "text/plain": [
       "{'id_': 'ad7faea7-0eb5-42a1-9788-ef08b8c6cbd0',\n",
       " 'embedding': None,\n",
       " 'metadata': {'id': '56be85543aeaaa14008c9065',\n",
       "  'title': 'Beyoncé',\n",
       "  'question': 'What areas did Beyonce compete in when she was growing up?',\n",
       "  'answers': {'text': ['singing and dancing'], 'answer_start': [207]}},\n",
       " 'excluded_embed_metadata_keys': [],\n",
       " 'excluded_llm_metadata_keys': [],\n",
       " 'relationships': {},\n",
       " 'metadata_template': '{key}: {value}',\n",
       " 'metadata_separator': '\\n',\n",
       " 'text_resource': MediaResource(embeddings=None, data=None, text='Beyoncé Giselle Knowles-Carter (/biːˈjɒnseɪ/ bee-YON-say) (born September 4, 1981) is an American singer, songwriter, record producer and actress. Born and raised in Houston, Texas, she performed in various singing and dancing competitions as a child, and rose to fame in the late 1990s as lead singer of R&B girl-group Destiny\\'s Child. Managed by her father, Mathew Knowles, the group became one of the world\\'s best-selling girl groups of all time. Their hiatus saw the release of Beyoncé\\'s debut album, Dangerously in Love (2003), which established her as a solo artist worldwide, earned five Grammy Awards and featured the Billboard Hot 100 number-one singles \"Crazy in Love\" and \"Baby Boy\".', path=None, url=None, mimetype=None),\n",
       " 'image_resource': None,\n",
       " 'audio_resource': None,\n",
       " 'video_resource': None,\n",
       " 'text_template': '{metadata_str}\\n\\n{content}'}"
      ]
     },
     "execution_count": 71,
     "metadata": {},
     "output_type": "execute_result"
    }
   ],
   "source": [
    "documents[1].__dict__"
   ]
  },
  {
   "cell_type": "code",
   "execution_count": 50,
   "id": "2c3b6a88-21b3-4d4f-9c1f-88c90835e2b7",
   "metadata": {},
   "outputs": [],
   "source": [
    "from llama_index.core import Document, VectorStoreIndex\n",
    "from llama_index.embeddings.huggingface import HuggingFaceEmbedding\n",
    "embed_model = HuggingFaceEmbedding(model_name=\"sentence-transformers/all-MiniLM-L6-v2\")"
   ]
  },
  {
   "cell_type": "code",
   "execution_count": 51,
   "id": "85091aa5-c774-4a7d-a69a-850f9239f77c",
   "metadata": {},
   "outputs": [],
   "source": [
    "index = VectorStoreIndex.from_documents(documents, embed_model=embed_model)"
   ]
  },
  {
   "cell_type": "code",
   "execution_count": 62,
   "id": "5f3077de-6b9a-4cc0-b3b9-a945a980e16e",
   "metadata": {},
   "outputs": [],
   "source": [
    "vector_store = index.vector_store"
   ]
  },
  {
   "cell_type": "code",
   "execution_count": null,
   "id": "4059f551-6dc2-431d-9d4e-e2d9e9f16c0f",
   "metadata": {},
   "outputs": [],
   "source": [
    "\n",
    "# Check number of nodes stored (works for Chroma, FAISS, etc.)\n",
    "print(f\"Total Nodes Stored: {vector_store._collection.count()}\")"
   ]
  },
  {
   "cell_type": "code",
   "execution_count": 72,
   "id": "d08c3924-7222-465d-ba82-e9ee8273e03c",
   "metadata": {},
   "outputs": [],
   "source": [
    "from llama_index.core.callbacks import CallbackManager, CBEventType"
   ]
  },
  {
   "cell_type": "code",
   "execution_count": 73,
   "id": "342b2efc-53b8-4566-b420-61e091094077",
   "metadata": {},
   "outputs": [
    {
     "data": {
      "text/plain": [
       "['AGENT_STEP',\n",
       " 'CHUNKING',\n",
       " 'EMBEDDING',\n",
       " 'EXCEPTION',\n",
       " 'FUNCTION_CALL',\n",
       " 'LLM',\n",
       " 'NODE_PARSING',\n",
       " 'QUERY',\n",
       " 'RERANKING',\n",
       " 'RETRIEVE',\n",
       " 'SUB_QUESTION',\n",
       " 'SYNTHESIZE',\n",
       " 'TEMPLATING',\n",
       " 'TREE',\n",
       " '__class__',\n",
       " '__doc__',\n",
       " '__members__',\n",
       " '__module__']"
      ]
     },
     "execution_count": 73,
     "metadata": {},
     "output_type": "execute_result"
    }
   ],
   "source": [
    "dir(CBEventType)"
   ]
  }
 ],
 "metadata": {
  "kernelspec": {
   "display_name": "Python 3 (ipykernel)",
   "language": "python",
   "name": "python3"
  },
  "language_info": {
   "codemirror_mode": {
    "name": "ipython",
    "version": 3
   },
   "file_extension": ".py",
   "mimetype": "text/x-python",
   "name": "python",
   "nbconvert_exporter": "python",
   "pygments_lexer": "ipython3",
   "version": "3.10.12"
  }
 },
 "nbformat": 4,
 "nbformat_minor": 5
}
