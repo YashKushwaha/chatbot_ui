{
 "cells": [
  {
   "cell_type": "markdown",
   "id": "96dbc24f-4f5a-472d-8763-01879faa8671",
   "metadata": {},
   "source": [
    "https://docs.llamaindex.ai/en/stable/examples/workflow/self_discover_workflow/"
   ]
  },
  {
   "cell_type": "code",
   "execution_count": 1,
   "id": "ca7b222e-f7e7-4cff-aee5-674eb1f3e546",
   "metadata": {},
   "outputs": [],
   "source": [
    "from llama_index.core.memory import ChatSummaryMemoryBuffer\n",
    "from llama_index.core.llms import ChatMessage, MessageRole\n",
    "from llama_index.llms.ollama import Ollama"
   ]
  },
  {
   "cell_type": "code",
   "execution_count": 2,
   "id": "ec725f77-6250-457e-81b0-86ef60478162",
   "metadata": {},
   "outputs": [],
   "source": [
    "import os\n",
    "import mlflow\n",
    "import mlflow.llama_index"
   ]
  },
  {
   "cell_type": "code",
   "execution_count": 3,
   "id": "7cf5a177-482e-4aa4-a1e6-791ee052ddd8",
   "metadata": {},
   "outputs": [],
   "source": [
    "log_dir = os.path.abspath(\"./mlruns\")\n",
    "mlflow.set_tracking_uri(f\"file:{log_dir}\")"
   ]
  },
  {
   "cell_type": "code",
   "execution_count": 4,
   "id": "8dcf24b5-168d-45cc-ab63-8a32f8b36a64",
   "metadata": {},
   "outputs": [
    {
     "data": {
      "text/plain": [
       "'/mnt/f/chatbot_ui/notebooks/mlruns'"
      ]
     },
     "execution_count": 4,
     "metadata": {},
     "output_type": "execute_result"
    }
   ],
   "source": [
    "log_dir"
   ]
  },
  {
   "cell_type": "code",
   "execution_count": 5,
   "id": "fd7a449d-179c-4899-9960-196e9f6cb1ad",
   "metadata": {},
   "outputs": [],
   "source": [
    "mlflow.llama_index.autolog()"
   ]
  },
  {
   "cell_type": "code",
   "execution_count": 6,
   "id": "a527ad17-fc87-44d5-bac4-99ebd9eb3486",
   "metadata": {},
   "outputs": [],
   "source": [
    "from llama_index.core.prompts import PromptTemplate\n",
    "\n",
    "_REASONING_MODULES = [\n",
    "    \"1. How could I devise an experiment to help solve that problem?\",\n",
    "    \"2. Make a list of ideas for solving this problem, and apply them one by one to the problem to see if any progress can be made.\",\n",
    "    \"3. How could I measure progress on this problem?\",\n",
    "    \"4. How can I simplify the problem so that it is easier to solve?\",\n",
    "    \"5. What are the key assumptions underlying this problem?\",\n",
    "    \"6. What are the potential risks and drawbacks of each solution?\",\n",
    "    \"7. What are the alternative perspectives or viewpoints on this problem?\",\n",
    "    \"8. What are the long-term implications of this problem and its solutions?\",\n",
    "    \"9. How can I break down this problem into smaller, more manageable parts?\",\n",
    "    \"10. Critical Thinking: This style involves analyzing the problem from different perspectives, questioning assumptions, and evaluating the evidence or information available. It focuses on logical reasoning, evidence-based decision-making, and identifying potential biases or flaws in thinking.\",\n",
    "    \"11. Try creative thinking, generate innovative and out-of-the-box ideas to solve the problem. Explore unconventional solutions, thinking beyond traditional boundaries, and encouraging imagination and originality.\",\n",
    "    \"12. Seek input and collaboration from others to solve the problem. Emphasize teamwork, open communication, and leveraging the diverse perspectives and expertise of a group to come up with effective solutions.\",\n",
    "    \"13. Use systems thinking: Consider the problem as part of a larger system and understanding the interconnectedness of various elements. Focuses on identifying the underlying causes, feedback loops, and interdependencies that influence the problem, and developing holistic solutions that address the system as a whole.\",\n",
    "    \"14. Use Risk Analysis: Evaluate potential risks, uncertainties, and tradeoffs associated with different solutions or approaches to a problem. Emphasize assessing the potential consequences and likelihood of success or failure, and making informed decisions based on a balanced analysis of risks and benefits.\",\n",
    "    \"15. Use Reflective Thinking: Step back from the problem, take the time for introspection and self-reflection. Examine personal biases, assumptions, and mental models that may influence problem-solving, and being open to learning from past experiences to improve future approaches.\",\n",
    "    \"16. What is the core issue or problem that needs to be addressed?\",\n",
    "    \"17. What are the underlying causes or factors contributing to the problem?\",\n",
    "    \"18. Are there any potential solutions or strategies that have been tried before? If yes, what were the outcomes and lessons learned?\",\n",
    "    \"19. What are the potential obstacles or challenges that might arise in solving this problem?\",\n",
    "    \"20. Are there any relevant data or information that can provide insights into the problem? If yes, what data sources are available, and how can they be analyzed?\",\n",
    "    \"21. Are there any stakeholders or individuals who are directly affected by the problem? What are their perspectives and needs?\",\n",
    "    \"22. What resources (financial, human, technological, etc.) are needed to tackle the problem effectively?\",\n",
    "    \"23. How can progress or success in solving the problem be measured or evaluated?\",\n",
    "    \"24. What indicators or metrics can be used?\",\n",
    "    \"25. Is the problem a technical or practical one that requires a specific expertise or skill set? Or is it more of a conceptual or theoretical problem?\",\n",
    "    \"26. Does the problem involve a physical constraint, such as limited resources, infrastructure, or space?\",\n",
    "    \"27. Is the problem related to human behavior, such as a social, cultural, or psychological issue?\",\n",
    "    \"28. Does the problem involve decision-making or planning, where choices need to be made under uncertainty or with competing objectives?\",\n",
    "    \"29. Is the problem an analytical one that requires data analysis, modeling, or optimization techniques?\",\n",
    "    \"30. Is the problem a design challenge that requires creative solutions and innovation?\",\n",
    "    \"31. Does the problem require addressing systemic or structural issues rather than just individual instances?\",\n",
    "    \"32. Is the problem time-sensitive or urgent, requiring immediate attention and action?\",\n",
    "    \"33. What kinds of solution typically are produced for this kind of problem specification?\",\n",
    "    \"34. Given the problem specification and the current best solution, have a guess about other possible solutions.\"\n",
    "    \"35. Let’s imagine the current best solution is totally wrong, what other ways are there to think about the problem specification?\"\n",
    "    \"36. What is the best way to modify this current best solution, given what you know about these kinds of problem specification?\"\n",
    "    \"37. Ignoring the current best solution, create an entirely new solution to the problem.\"\n",
    "    \"38. Let’s think step by step .\"\n",
    "    \"39. Let’s make a step by step plan and implement it with good notation and explanation.\",\n",
    "]\n",
    "\n",
    "_REASONING_MODULES = \"\\n\".join(_REASONING_MODULES)\n",
    "\n",
    "SELECT_PRMOPT_TEMPLATE = PromptTemplate(\n",
    "    \"Given the task: {task}, which of the following reasoning modules are relevant? Do not elaborate on why.\\n\\n {reasoning_modules}\"\n",
    ")\n",
    "\n",
    "ADAPT_PROMPT_TEMPLATE = PromptTemplate(\n",
    "    \"Without working out the full solution, adapt the following reasoning modules to be specific to our task:\\n{selected_modules}\\n\\nOur task:\\n{task}\"\n",
    ")\n",
    "\n",
    "IMPLEMENT_PROMPT_TEMPLATE = PromptTemplate(\n",
    "    \"Without working out the full solution, create an actionable reasoning structure for the task using these adapted reasoning modules:\\n{adapted_modules}\\n\\nTask Description:\\n{task}\"\n",
    ")\n",
    "\n",
    "REASONING_PROMPT_TEMPLATE = PromptTemplate(\n",
    "    \"Using the following reasoning structure: {reasoning_structure}\\n\\nSolve this task, providing your final answer: {task}\"\n",
    ")"
   ]
  },
  {
   "cell_type": "code",
   "execution_count": 7,
   "id": "1fdf22f7-37ec-436c-8abb-12376530b207",
   "metadata": {},
   "outputs": [],
   "source": [
    "from llama_index.core.workflow import Event\n",
    "\n",
    "\n",
    "class GetModulesEvent(Event):\n",
    "    \"\"\"Event to get modules.\"\"\"\n",
    "\n",
    "    task: str\n",
    "    modules: str\n",
    "\n",
    "\n",
    "class RefineModulesEvent(Event):\n",
    "    \"\"\"Event to refine modules.\"\"\"\n",
    "\n",
    "    task: str\n",
    "    refined_modules: str\n",
    "\n",
    "\n",
    "class ReasoningStructureEvent(Event):\n",
    "    \"\"\"Event to create reasoning structure.\"\"\"\n",
    "\n",
    "    task: str\n",
    "    reasoning_structure: str"
   ]
  },
  {
   "cell_type": "code",
   "execution_count": 8,
   "id": "7ec8fb34-3f46-4cca-b430-e1d1fca97735",
   "metadata": {},
   "outputs": [],
   "source": [
    "from llama_index.core.workflow import (\n",
    "    Workflow,\n",
    "    Context,\n",
    "    StartEvent,\n",
    "    StopEvent,\n",
    "    step,\n",
    ")\n",
    "from llama_index.core.llms import LLM\n",
    "\n",
    "\n",
    "class SelfDiscoverWorkflow(Workflow):\n",
    "    \"\"\"Self discover workflow.\"\"\"\n",
    "\n",
    "    @step\n",
    "    async def get_modules(\n",
    "        self, ctx: Context, ev: StartEvent\n",
    "    ) -> GetModulesEvent:\n",
    "        \"\"\"Get modules step.\"\"\"\n",
    "        # get input data, store llm into ctx\n",
    "        task = ev.get(\"task\")\n",
    "        llm: LLM = ev.get(\"llm\")\n",
    "\n",
    "        if task is None or llm is None:\n",
    "            raise ValueError(\"'task' and 'llm' arguments are required.\")\n",
    "\n",
    "        await ctx.set(\"llm\", llm)\n",
    "\n",
    "        # format prompt and get result from LLM\n",
    "        prompt = SELECT_PRMOPT_TEMPLATE.format(\n",
    "            task=task, reasoning_modules=_REASONING_MODULES\n",
    "        )\n",
    "        result = llm.complete(prompt)\n",
    "\n",
    "        return GetModulesEvent(task=task, modules=str(result))\n",
    "\n",
    "    @step\n",
    "    async def refine_modules(\n",
    "        self, ctx: Context, ev: GetModulesEvent\n",
    "    ) -> RefineModulesEvent:\n",
    "        \"\"\"Refine modules step.\"\"\"\n",
    "        task = ev.task\n",
    "        modules = ev.modules\n",
    "        llm: LLM = await ctx.get(\"llm\")\n",
    "\n",
    "        # format prompt and get result\n",
    "        prompt = ADAPT_PROMPT_TEMPLATE.format(\n",
    "            task=task, selected_modules=modules\n",
    "        )\n",
    "        result = llm.complete(prompt)\n",
    "\n",
    "        return RefineModulesEvent(task=task, refined_modules=str(result))\n",
    "\n",
    "    @step\n",
    "    async def create_reasoning_structure(\n",
    "        self, ctx: Context, ev: RefineModulesEvent\n",
    "    ) -> ReasoningStructureEvent:\n",
    "        \"\"\"Create reasoning structures step.\"\"\"\n",
    "        task = ev.task\n",
    "        refined_modules = ev.refined_modules\n",
    "        llm: LLM = await ctx.get(\"llm\")\n",
    "\n",
    "        # format prompt, get result\n",
    "        prompt = IMPLEMENT_PROMPT_TEMPLATE.format(\n",
    "            task=task, adapted_modules=refined_modules\n",
    "        )\n",
    "        result = llm.complete(prompt)\n",
    "\n",
    "        return ReasoningStructureEvent(\n",
    "            task=task, reasoning_structure=str(result)\n",
    "        )\n",
    "\n",
    "    @step\n",
    "    async def get_final_result(\n",
    "        self, ctx: Context, ev: ReasoningStructureEvent\n",
    "    ) -> StopEvent:\n",
    "        \"\"\"Gets final result from reasoning structure event.\"\"\"\n",
    "        task = ev.task\n",
    "        reasoning_structure = ev.reasoning_structure\n",
    "        llm: LLM = await ctx.get(\"llm\")\n",
    "\n",
    "        # format prompt, get res\n",
    "        prompt = REASONING_PROMPT_TEMPLATE.format(\n",
    "            task=task, reasoning_structure=reasoning_structure\n",
    "        )\n",
    "        result = llm.complete(prompt)\n",
    "\n",
    "        return StopEvent(result=result)"
   ]
  },
  {
   "cell_type": "code",
   "execution_count": null,
   "id": "cf36d286-38d5-44d7-b1c6-3baa00b3f9fb",
   "metadata": {},
   "outputs": [],
   "source": []
  },
  {
   "cell_type": "code",
   "execution_count": 9,
   "id": "3fba09ca-0967-4ff6-8e48-1260a7bca3fb",
   "metadata": {},
   "outputs": [],
   "source": [
    "#model = \"qwen3:14b\"\n",
    "model = 'qwen3:14b'\n",
    "tokenizer_model = \"Qwen/Qwen3-14B\"\n",
    "context_window = 1000\n",
    "#tokenizer = AutoTokenizer.from_pretrained(tokenizer_model)\n",
    "\n",
    "llm = Ollama(\n",
    "    model=model,\n",
    "    request_timeout=120.0,\n",
    "    thinking=False,\n",
    "    context_window=context_window,\n",
    ")"
   ]
  },
  {
   "cell_type": "code",
   "execution_count": 10,
   "id": "27efc7d3-e4b2-486e-92b0-0513068de523",
   "metadata": {},
   "outputs": [],
   "source": [
    "workflow = SelfDiscoverWorkflow()\n",
    "llm = llm"
   ]
  },
  {
   "cell_type": "code",
   "execution_count": 11,
   "id": "0897c557-da6c-4a97-8890-4d0a8079f0d2",
   "metadata": {},
   "outputs": [
    {
     "name": "stderr",
     "output_type": "stream",
     "text": [
      "2025/06/22 15:58:23 WARNING mlflow.tracing.processor.mlflow_v2: Creating a trace within the default experiment with id '0'. It is strongly recommended to not use the default experiment to log traces due to ambiguous search results and probable performance issues over time due to directory table listing performance degradation with high volumes of directories within a specific path. To avoid performance and disambiguation issues, set the experiment for your environment using `mlflow.set_experiment()` API.\n"
     ]
    },
    {
     "data": {
      "text/markdown": [
       "Let's go through the problem step by step using the reasoning structure provided:\n",
       "\n",
       "---\n",
       "\n",
       "### **Step 1: Initial Count (Module 1)**\n",
       "- **Oranges:** 15  \n",
       "- **Apples:** 0\n",
       "\n",
       "---\n",
       "\n",
       "### **Step 2: Giving Oranges to Brother (Module 2)**\n",
       "- Michael gives **4 oranges** to his brother.\n",
       "- **Oranges:** 15 - 4 = **11**  \n",
       "- **Apples:** Still **0**\n",
       "\n",
       "---\n",
       "\n",
       "### **Step 3: Trading Oranges for Apples (Module 3)**\n",
       "- Michael trades **3 oranges** for **6 apples**.\n",
       "- **Oranges:** 11 - 3 = **8**  \n",
       "- **Apples:** 0 + 6 = **6**\n",
       "\n",
       "---\n",
       "\n",
       "### **Step 4: Discarding Spoiled Oranges (Module 4)**\n",
       "- Michael discards **2 spoiled oranges**.\n",
       "- **Oranges:** 8 - 2 = **6**  \n",
       "- **Apples:** Still **6**\n",
       "\n",
       "---\n",
       "\n",
       "### **Step 5: Buying More Oranges and Apples (Module 5)**\n",
       "- Michael buys **12 oranges** and **5 apples**.\n",
       "- **Oranges:** 6 + 12 = **18**  \n",
       "- **Apples:** 6 + 5 = **11**\n",
       "\n",
       "---\n",
       "\n",
       "### **Step 6: Giving Apples to Friend (Module 6)**\n",
       "- Michael gives **2 apples** to his friend.\n",
       "- **Oranges:** Still **18**  \n",
       "- **Apples:** 11 - 2 = **9**\n",
       "\n",
       "---\n",
       "\n",
       "### ✅ **Final Result:**\n",
       "- **Oranges:** **18**  \n",
       "- **Apples:** **9**\n",
       "\n",
       "---\n",
       "\n",
       "### ✅ **Answer:**\n",
       "Michael now has **18 oranges** and **9 apples**."
      ],
      "text/plain": [
       "<IPython.core.display.Markdown object>"
      ]
     },
     "metadata": {},
     "output_type": "display_data"
    }
   ],
   "source": [
    "\n",
    "from IPython.display import display, Markdown\n",
    "\n",
    "task = \"\"\"Michael has 15 oranges. He gives 4 oranges to his brother and trades 3 oranges for 6 apples with his neighbor. \n",
    "Later in the day, he realizes some of his oranges are spoiled, so he discards 2 of them. \n",
    "Then, Michael goes to the market and buys 12 more oranges and 5 more apples. \n",
    "If Michael decides to give 2 apples to his friend, how many oranges and apples does Michael have now?\"\"\"\n",
    "result = await workflow.run(task=task, llm=llm)\n",
    "display(Markdown(str(result)))"
   ]
  },
  {
   "cell_type": "code",
   "execution_count": 12,
   "id": "1d324341-2291-4864-9c5d-aa120662d2e9",
   "metadata": {},
   "outputs": [],
   "source": [
    "from llama_index.utils.workflow import (\n",
    "    draw_all_possible_flows,\n",
    "    draw_most_recent_execution,\n",
    ")"
   ]
  },
  {
   "cell_type": "code",
   "execution_count": 13,
   "id": "7970d8ff-c7bb-4948-9000-473538c9ca32",
   "metadata": {},
   "outputs": [],
   "source": [
    "import os\n",
    "cwd = os.getcwd()"
   ]
  },
  {
   "cell_type": "code",
   "execution_count": 14,
   "id": "b83ca53e-6dd9-413f-94e3-372d50b5b833",
   "metadata": {},
   "outputs": [
    {
     "name": "stdout",
     "output_type": "stream",
     "text": [
      "/mnt/f/chatbot_ui/notebooks/self discover.html\n"
     ]
    }
   ],
   "source": [
    "filename = os.path.join(cwd,\"self discover.html\")\n",
    "draw_all_possible_flows(SelfDiscoverWorkflow, filename=filename)"
   ]
  },
  {
   "cell_type": "code",
   "execution_count": 15,
   "id": "84eaa977-0bfb-4667-8064-4424234c71d2",
   "metadata": {},
   "outputs": [
    {
     "name": "stdout",
     "output_type": "stream",
     "text": [
      "/mnt/f/chatbot_ui/notebooks/self discover recent.html\n"
     ]
    }
   ],
   "source": [
    "filename = os.path.join(cwd,\"self discover recent.html\")\n",
    "draw_most_recent_execution(workflow, filename = filename)"
   ]
  },
  {
   "cell_type": "code",
   "execution_count": null,
   "id": "e8d7420c-a488-4e8c-95e4-449599093388",
   "metadata": {},
   "outputs": [],
   "source": []
  }
 ],
 "metadata": {
  "kernelspec": {
   "display_name": "Python 3 (ipykernel)",
   "language": "python",
   "name": "python3"
  },
  "language_info": {
   "codemirror_mode": {
    "name": "ipython",
    "version": 3
   },
   "file_extension": ".py",
   "mimetype": "text/x-python",
   "name": "python",
   "nbconvert_exporter": "python",
   "pygments_lexer": "ipython3",
   "version": "3.10.12"
  }
 },
 "nbformat": 4,
 "nbformat_minor": 5
}
