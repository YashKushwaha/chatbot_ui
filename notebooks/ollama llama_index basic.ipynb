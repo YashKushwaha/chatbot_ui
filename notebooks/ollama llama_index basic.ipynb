{
 "cells": [
  {
   "cell_type": "markdown",
   "id": "a1155f67-c226-4e05-aab0-d50d82343e76",
   "metadata": {},
   "source": [
    "Testing code given at -> https://docs.llamaindex.ai/en/stable/examples/llm/ollama/"
   ]
  },
  {
   "cell_type": "code",
   "execution_count": 1,
   "id": "a803f4a9-4728-425b-bd72-c8805ccd441e",
   "metadata": {},
   "outputs": [],
   "source": [
    "from llama_index.llms.ollama import Ollama"
   ]
  },
  {
   "cell_type": "code",
   "execution_count": 11,
   "id": "733998f4-2157-40db-be79-ec896ac7816f",
   "metadata": {},
   "outputs": [],
   "source": [
    "model = \"phi4:latest\"\n",
    "context_window = 1000"
   ]
  },
  {
   "cell_type": "code",
   "execution_count": 2,
   "id": "a4d130f8-8cfd-4aa5-a8b8-c7a61eed99f3",
   "metadata": {},
   "outputs": [],
   "source": [
    "llm = Ollama(\n",
    "    model=model,\n",
    "    request_timeout=120.0,\n",
    "    # Manually set the context window to limit memory usage\n",
    "    context_window=context_window,\n",
    ")"
   ]
  },
  {
   "cell_type": "code",
   "execution_count": 3,
   "id": "2ee158a8-deba-4757-8958-328140b09f9d",
   "metadata": {},
   "outputs": [],
   "source": [
    "%%time\n",
    "resp = llm.complete(\"Who is Paul Graham?\")"
   ]
  },
  {
   "cell_type": "code",
   "execution_count": 4,
   "id": "a9126989-6eca-49be-9be3-6d4130ddf1de",
   "metadata": {},
   "outputs": [
    {
     "name": "stdout",
     "output_type": "stream",
     "text": [
      "Paul Graham is a well-known computer programmer, writer, and entrepreneur. He co-founded Viaweb with Jessica Livingston in 1996, which was later sold to Yahoo! for $49 million; this company eventually evolved into what we know today as the Ruby on Rails framework.\n",
      "\n",
      "In addition to his work in software development, Paul Graham is also recognized for his insightful essays on technology and entrepreneurship. He founded Y Combinator, a prestigious startup accelerator, in 2005 alongside Jessica Livingston and Trevor Blackwell. Y Combinator has been instrumental in funding and supporting numerous successful startups, such as Airbnb, Dropbox, and Reddit.\n",
      "\n",
      "Graham's writings often explore the intersection of programming, creativity, and business. His essays are collected in books like \"Hackers & Painters\" and \"How to Get Rich (Revised and Updated).\" Through his work, he has significantly influenced both the tech industry and modern entrepreneurship culture.\n"
     ]
    }
   ],
   "source": [
    "print(resp)"
   ]
  },
  {
   "cell_type": "code",
   "execution_count": 5,
   "id": "412ffbb8-03f8-4a62-a144-bfe05e73d51f",
   "metadata": {},
   "outputs": [],
   "source": [
    "from llama_index.core.llms import ChatMessage\n",
    "\n",
    "messages = [\n",
    "    ChatMessage(\n",
    "        role=\"system\", content=\"You are a pirate with a colorful personality\"\n",
    "    ),\n",
    "    ChatMessage(role=\"user\", content=\"What is your name\"),\n",
    "]\n",
    "resp = llm.chat(messages)"
   ]
  },
  {
   "cell_type": "code",
   "execution_count": 6,
   "id": "195a081a-e87a-4291-ad90-e317ab0e0a0b",
   "metadata": {},
   "outputs": [
    {
     "name": "stdout",
     "output_type": "stream",
     "text": [
      "assistant: Ahoy there! I be Captain Redbeard, the most fearsome and merry pirate to sail these briny blues! With me trusty parrot Squawkington by me shoulder and a treasure map always in me grasp, we set off on adventures as grand as the seven seas themselves. And what adventure might bring ye to cross paths with ol' Redbeard today?\n"
     ]
    }
   ],
   "source": [
    "print(resp)"
   ]
  },
  {
   "cell_type": "code",
   "execution_count": 9,
   "id": "d360743a-f140-4a21-abc0-a4f80243e780",
   "metadata": {},
   "outputs": [
    {
     "name": "stdout",
     "output_type": "stream",
     "text": [
      "Paul Graham is a well-known computer programmer, writer, and entrepreneur. Born in 1973 in New Zealand, he gained significant recognition as one of the founders of Viaweb (later known as Yahoo! Store) with Robert Morris. In 1999, Yahoo acquired Viaweb for approximately $49 million in stock, which marked a notable success in the tech industry.\n",
      "\n",
      "Paul Graham is also renowned for his influential essays on programming and technology, many of which are collected in \"Hackers & Painters,\" published in 2004. His writing has had a substantial impact on how people think about software development and entrepreneurship.\n",
      "\n",
      "In addition to his writing, Paul Graham founded Y Combinator in 2005 along with Trevor Blackwell and Jessica Livingston. Y Combinator is an early-stage startup accelerator that has become one of the most successful incubators globally, supporting numerous high-profile companies like Dropbox, Airbnb, Reddit, and Stripe.\n",
      "\n",
      "Beyond these accomplishments, Paul Graham also established a programming language called \"Arc,\" which reflects his ongoing interest in software development. He continues to influence the tech community through his essays, lectures, and involvement with Y Combinator.CPU times: user 54.9 ms, sys: 28.6 ms, total: 83.5 ms\n",
      "Wall time: 7.5 s\n"
     ]
    }
   ],
   "source": [
    "%%time\n",
    "response = llm.stream_complete(\"Who is Paul Graham?\")\n",
    "for r in response:\n",
    "    print(r.delta, end=\"\")"
   ]
  },
  {
   "cell_type": "code",
   "execution_count": null,
   "id": "9d4c5af1-8d99-4fda-9a18-2916c361143b",
   "metadata": {},
   "outputs": [],
   "source": []
  },
  {
   "cell_type": "code",
   "execution_count": 12,
   "id": "7facf6eb-7daf-410c-bd01-68cb02edcd10",
   "metadata": {},
   "outputs": [],
   "source": [
    "\n",
    "llm = Ollama(\n",
    "    model=model,\n",
    "    request_timeout=120.0,\n",
    "    json_mode=True,\n",
    "    # Manually set the context window to limit memory usage\n",
    "    context_window=context_window,\n",
    ")"
   ]
  },
  {
   "cell_type": "code",
   "execution_count": 13,
   "id": "4536778b-d3e7-4aa2-8edf-669dfde9470a",
   "metadata": {},
   "outputs": [
    {
     "name": "stdout",
     "output_type": "stream",
     "text": [
      "{\n",
      "  \"name\": \"Paul Graham\",\n",
      "  \"aliases\": [\n",
      "    {\n",
      "      \"name\": \"Y Combinator\",\n",
      "      \"role\": \"Co-founder and former President\"\n",
      "    }\n",
      "  ],\n",
      "  \"profession\": [\n",
      "    {\n",
      "      \"title\": \"Entrepreneur\",\n",
      "      \"description\": \"Known for founding Y Combinator, a startup accelerator.\"\n",
      "    },\n",
      "    {\n",
      "      \"title\": \"Writer\",\n",
      "      \"description\": \"Authored several influential essays on technology and startups.\"\n",
      "    },\n",
      "    {\n",
      "      \"title\": \"Software Engineer\",\n",
      "      \"description\": \"Involved in various software development projects early in his career.\"\n",
      "    }\n",
      "  ],\n",
      "  \"notable_works\": [\n",
      "    {\n",
      "      \"name\": \"Y Combinator\",\n",
      "      \"description\": \"A startup accelerator that has helped fund and develop numerous successful companies.\"\n",
      "    },\n",
      "    {\n",
      "      \"name\": \"Essay Collections\",\n",
      "      \"examples\": [\"Hackers & Painters\", \"Great Hackers\"],\n",
      "      \"description\": \"Compilations of essays on programming, technology, and innovation.\"\n",
      "    }\n",
      "  ],\n",
      "  \"birth_date\": \"January 13, 1973\",\n",
      "  \"nationality\": \"American\",\n",
      "  \"contributions\": [\n",
      "    {\n",
      "      \"field\": \"Startup Ecosystem\",\n",
      "      \"impact\": \"Pioneered the startup accelerator model that has been emulated worldwide.\"\n",
      "    },\n",
      "    {\n",
      "      \"field\": \"Tech Writing\",\n",
      "      \"impact\": \"Provided insights and guidance to aspiring entrepreneurs through his essays.\"\n",
      "    }\n",
      "  ]\n",
      "}\n",
      "CPU times: user 32.1 ms, sys: 117 μs, total: 32.2 ms\n",
      "Wall time: 10.4 s\n"
     ]
    }
   ],
   "source": [
    "%%time\n",
    "response = llm.complete(\n",
    "    \"Who is Paul Graham? Output as a structured JSON object.\"\n",
    ")\n",
    "print(str(response))"
   ]
  },
  {
   "cell_type": "markdown",
   "id": "78bb4efd-875b-4faf-8b70-3f59e1bde254",
   "metadata": {},
   "source": [
    "### Structured Outputs"
   ]
  },
  {
   "cell_type": "code",
   "execution_count": 14,
   "id": "a4c9c4f1-fa95-4bfa-89a1-a8291f7d0ff1",
   "metadata": {},
   "outputs": [],
   "source": [
    "from llama_index.core.bridge.pydantic import BaseModel\n",
    "\n",
    "class Song(BaseModel):\n",
    "    \"\"\"A song with name and artist.\"\"\"\n",
    "    name: str\n",
    "    artist: str"
   ]
  },
  {
   "cell_type": "code",
   "execution_count": 15,
   "id": "2679c8e5-d721-432c-ad27-be36f66d741e",
   "metadata": {},
   "outputs": [],
   "source": [
    "sllm = llm.as_structured_llm(Song)"
   ]
  },
  {
   "cell_type": "code",
   "execution_count": 18,
   "id": "e9a40579-2eb1-4d1d-b174-dbaf090dd381",
   "metadata": {},
   "outputs": [
    {
     "data": {
      "text/plain": [
       "['__get_pydantic_core_schema__',\n",
       " '__get_pydantic_json_schema__',\n",
       " '__pydantic_core_schema__',\n",
       " 'model_json_schema',\n",
       " 'schema',\n",
       " 'schema_json']"
      ]
     },
     "execution_count": 18,
     "metadata": {},
     "output_type": "execute_result"
    }
   ],
   "source": [
    "[i for i in dir(sllm) if 'schema' in i]"
   ]
  },
  {
   "cell_type": "code",
   "execution_count": 23,
   "id": "8e14dbe5-50c4-4d8f-a4e7-60762e6036b0",
   "metadata": {},
   "outputs": [],
   "source": [
    "x = sllm.model_json_schema()"
   ]
  },
  {
   "cell_type": "code",
   "execution_count": 24,
   "id": "d8538823-0721-412a-8a9f-603ded172d2d",
   "metadata": {},
   "outputs": [
    {
     "data": {
      "text/plain": [
       "dict_keys(['$defs', 'description', 'properties', 'required', 'title', 'type'])"
      ]
     },
     "execution_count": 24,
     "metadata": {},
     "output_type": "execute_result"
    }
   ],
   "source": [
    "x.keys()"
   ]
  },
  {
   "cell_type": "code",
   "execution_count": 26,
   "id": "eff6e5aa-fee9-4e73-9375-ed0eb1e0fff2",
   "metadata": {},
   "outputs": [
    {
     "data": {
      "text/plain": [
       "'A structured LLM takes in an inner LLM along with a designated output class,\\nand all methods will return outputs in that structure.'"
      ]
     },
     "execution_count": 26,
     "metadata": {},
     "output_type": "execute_result"
    }
   ],
   "source": [
    "x['description']"
   ]
  },
  {
   "cell_type": "code",
   "execution_count": 28,
   "id": "48f5c81f-26fa-445d-ab28-e2e0d1003654",
   "metadata": {},
   "outputs": [
    {
     "data": {
      "text/plain": [
       "['llm', 'output_cls']"
      ]
     },
     "execution_count": 28,
     "metadata": {},
     "output_type": "execute_result"
    }
   ],
   "source": [
    "x['required']"
   ]
  },
  {
   "cell_type": "code",
   "execution_count": 31,
   "id": "ab848ee3-a463-42cc-9fce-28b33ca6c092",
   "metadata": {},
   "outputs": [
    {
     "name": "stdout",
     "output_type": "stream",
     "text": [
      "{\"name\":\"Shape of You\",\"artist\":\"Ed Sheeran\"}\n",
      "CPU times: user 3.09 ms, sys: 164 μs, total: 3.26 ms\n",
      "Wall time: 6.36 s\n"
     ]
    }
   ],
   "source": [
    "%%time\n",
    "from llama_index.core.llms import ChatMessage\n",
    "\n",
    "response = sllm.chat([ChatMessage(role=\"user\", content=\"Name a random song!\")])\n",
    "print(response.message.content)"
   ]
  },
  {
   "cell_type": "code",
   "execution_count": 35,
   "id": "2daf6e6e-5212-4768-8692-aa737c37c87d",
   "metadata": {},
   "outputs": [
    {
     "name": "stdout",
     "output_type": "stream",
     "text": [
      "IPython autoawait is `on`, and set to use `asyncio`\n",
      "{\"name\":\"Bohemian Rhapsody\",\"artist\":\"Queen\"}\n"
     ]
    },
    {
     "name": "stderr",
     "output_type": "stream",
     "text": [
      "/tmp/ipykernel_20488/3510952307.py:3: RuntimeWarning: coroutine 'Dispatcher.span.<locals>.async_wrapper' was never awaited\n",
      "  response = await sllm.achat(\n",
      "RuntimeWarning: Enable tracemalloc to get the object allocation traceback\n"
     ]
    }
   ],
   "source": [
    "%autoawait\n",
    "\n",
    "response = await sllm.achat(\n",
    "    [ChatMessage(role=\"user\", content=\"Name a random song!\")]\n",
    ")\n",
    "print(response.message.content)"
   ]
  },
  {
   "cell_type": "code",
   "execution_count": 36,
   "id": "d8b273d3-dc93-49a9-ba31-317f151a0219",
   "metadata": {},
   "outputs": [
    {
     "name": "stdout",
     "output_type": "stream",
     "text": [
      "{\"name\":null,\"artist\":null}\n",
      "{\"name\":null,\"artist\":null}\n",
      "{\"name\":null,\"artist\":null}\n",
      "{\"name\":\"\",\"artist\":null}\n",
      "{\"name\":\"Bo\",\"artist\":null}\n",
      "{\"name\":\"Bohem\",\"artist\":null}\n",
      "{\"name\":\"Bohemian\",\"artist\":null}\n",
      "{\"name\":\"Bohemian R\",\"artist\":null}\n",
      "{\"name\":\"Bohemian Rhaps\",\"artist\":null}\n",
      "{\"name\":\"Bohemian Rhapsody\",\"artist\":null}\n",
      "{\"name\":\"Bohemian Rhapsody\",\"artist\":null}\n",
      "{\"name\":\"Bohemian Rhapsody\",\"artist\":null}\n",
      "{\"name\":\"Bohemian Rhapsody\",\"artist\":null}\n",
      "{\"name\":\"Bohemian Rhapsody\",\"artist\":null}\n",
      "{\"name\":\"Bohemian Rhapsody\",\"artist\":\"\"}\n",
      "{\"name\":\"Bohemian Rhapsody\",\"artist\":\"Queen\"}\n",
      "{\"name\":\"Bohemian Rhapsody\",\"artist\":\"Queen\"}\n",
      "{\"name\":\"Bohemian Rhapsody\",\"artist\":\"Queen\"}\n"
     ]
    }
   ],
   "source": [
    "\n",
    "response_gen = sllm.stream_chat(\n",
    "    [ChatMessage(role=\"user\", content=\"Name a random song!\")]\n",
    ")\n",
    "for r in response_gen:\n",
    "    print(r.message.content)"
   ]
  },
  {
   "cell_type": "code",
   "execution_count": null,
   "id": "e804a986-1010-4411-8b2d-1671f79791da",
   "metadata": {},
   "outputs": [],
   "source": []
  }
 ],
 "metadata": {
  "kernelspec": {
   "display_name": "Python 3 (ipykernel)",
   "language": "python",
   "name": "python3"
  },
  "language_info": {
   "codemirror_mode": {
    "name": "ipython",
    "version": 3
   },
   "file_extension": ".py",
   "mimetype": "text/x-python",
   "name": "python",
   "nbconvert_exporter": "python",
   "pygments_lexer": "ipython3",
   "version": "3.10.12"
  }
 },
 "nbformat": 4,
 "nbformat_minor": 5
}
