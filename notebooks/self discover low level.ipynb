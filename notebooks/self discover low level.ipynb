{
 "cells": [
  {
   "cell_type": "code",
   "execution_count": null,
   "id": "d3f48d42-5558-44cd-ad62-e0553ff7a8e9",
   "metadata": {},
   "outputs": [],
   "source": []
  },
  {
   "cell_type": "code",
   "execution_count": 1,
   "id": "2bedb164-bbaf-45dd-b29b-2f21b63d5fa5",
   "metadata": {},
   "outputs": [],
   "source": [
    "from IPython.display import Markdown, display"
   ]
  },
  {
   "cell_type": "code",
   "execution_count": 2,
   "id": "82d5cf44-877b-4d57-a7b1-9e8a5bac4fb3",
   "metadata": {},
   "outputs": [],
   "source": [
    "from llama_index.llms.ollama import Ollama"
   ]
  },
  {
   "cell_type": "code",
   "execution_count": 3,
   "id": "b2be4640-1059-4498-833d-80ff34e161c1",
   "metadata": {},
   "outputs": [],
   "source": [
    "import openai\n",
    "import os\n",
    "import time"
   ]
  },
  {
   "cell_type": "code",
   "execution_count": 4,
   "id": "5317ddea-1d47-4532-ae0a-ebaacda9973c",
   "metadata": {},
   "outputs": [],
   "source": [
    "def query_openai(prompt):\n",
    "    result = llm.complete(prompt)\n",
    "    return result.text"
   ]
  },
  {
   "cell_type": "code",
   "execution_count": 5,
   "id": "4bb5bc05-d75d-482f-bdaf-948f33665d54",
   "metadata": {},
   "outputs": [],
   "source": [
    "#model = \"qwen3:14b\"\n",
    "model = 'qwen3:14b'\n",
    "tokenizer_model = \"Qwen/Qwen3-14B\"\n",
    "context_window = 1000\n",
    "#tokenizer = AutoTokenizer.from_pretrained(tokenizer_model)\n",
    "\n",
    "llm = Ollama(\n",
    "    model=model,\n",
    "    request_timeout=120.0,\n",
    "    thinking=False,\n",
    "    context_window=context_window,\n",
    ")"
   ]
  },
  {
   "cell_type": "code",
   "execution_count": 6,
   "id": "03d803b2-7146-43a4-8b4c-ad45f9cb7d1c",
   "metadata": {},
   "outputs": [],
   "source": [
    "def display_prompt(prompt):\n",
    "    \"\"\"\n",
    "    print('prompt:')\n",
    "    print(prompt)\n",
    "    print(5*'=')\n",
    "    \"\"\"\n",
    "    display(Markdown(prompt))\n"
   ]
  },
  {
   "cell_type": "code",
   "execution_count": 7,
   "id": "e4b08f20-91ad-48d4-904d-97cd7c45a545",
   "metadata": {},
   "outputs": [],
   "source": [
    "# STAGE 1\n",
    "\n",
    "def select_reasoning_modules(task_description, reasoning_modules):\n",
    "    \"\"\"\n",
    "    Step 1: SELECT relevant reasoning modules for the task.\n",
    "    \"\"\"\n",
    "    prompt = f\"Given the task: {task_description}, which of the following reasoning modules are relevant? Do not elaborate on why.\\n\\n\" + \"\\n\".join(reasoning_modules)\n",
    "\n",
    "    selected_modules = query_openai(prompt)\n",
    "    return selected_modules\n",
    "\n",
    "def adapt_reasoning_modules(selected_modules, task_example):\n",
    "    \"\"\"\n",
    "    Step 2: ADAPT the selected reasoning modules to be more specific to the task.\n",
    "    \"\"\"\n",
    "    prompt = f\"Without working out the full solution, adapt the following reasoning modules to be specific to our task:\\n{selected_modules}\\n\\nOur task:\\n{task_example}\"\n",
    "    display_prompt(prompt)\n",
    "    adapted_modules = query_openai(prompt)\n",
    "    return adapted_modules\n",
    "\n",
    "def implement_reasoning_structure(adapted_modules, task_description):\n",
    "    \"\"\"\n",
    "    Step 3: IMPLEMENT the adapted reasoning modules into an actionable reasoning structure.\n",
    "    \"\"\"\n",
    "    prompt = f\"Without working out the full solution, create an actionable reasoning structure for the task using these adapted reasoning modules:\\n{adapted_modules}\\n\\nTask Description:\\n{task_description}\"\n",
    "    display_prompt(prompt)\n",
    "    reasoning_structure = query_openai(prompt)\n",
    "    return reasoning_structure\n",
    "\n",
    "# STAGE 2\n",
    "\n",
    "def execute_reasoning_structure(reasoning_structure, task_instance):\n",
    "    \"\"\"\n",
    "    Execute the reasoning structure to solve a specific task instance.\n",
    "    \"\"\"\n",
    "    prompt = f\"Using the following reasoning structure: {reasoning_structure}\\n\\nSolve this task, providing your final answer: {task_instance}\"\n",
    "    display_prompt(prompt)\n",
    "    solution = query_openai(prompt)\n",
    "    return solution\n"
   ]
  },
  {
   "cell_type": "code",
   "execution_count": 8,
   "id": "232e280c-4c9f-415d-a7a8-dce21409b537",
   "metadata": {},
   "outputs": [],
   "source": [
    "reasoning_modules = [\n",
    "        \"1. How could I devise an experiment to help solve that problem?\",\n",
    "        \"2. Make a list of ideas for solving this problem, and apply them one by one to the problem to see if any progress can be made.\",\n",
    "        #\"3. How could I measure progress on this problem?\",\n",
    "        \"4. How can I simplify the problem so that it is easier to solve?\",\n",
    "        \"5. What are the key assumptions underlying this problem?\",\n",
    "        \"6. What are the potential risks and drawbacks of each solution?\",\n",
    "        \"7. What are the alternative perspectives or viewpoints on this problem?\",\n",
    "        \"8. What are the long-term implications of this problem and its solutions?\",\n",
    "        \"9. How can I break down this problem into smaller, more manageable parts?\",\n",
    "        \"10. Critical Thinking: This style involves analyzing the problem from different perspectives, questioning assumptions, and evaluating the evidence or information available. It focuses on logical reasoning, evidence-based decision-making, and identifying potential biases or flaws in thinking.\",\n",
    "        \"11. Try creative thinking, generate innovative and out-of-the-box ideas to solve the problem. Explore unconventional solutions, thinking beyond traditional boundaries, and encouraging imagination and originality.\",\n",
    "        #\"12. Seek input and collaboration from others to solve the problem. Emphasize teamwork, open communication, and leveraging the diverse perspectives and expertise of a group to come up with effective solutions.\",\n",
    "        \"13. Use systems thinking: Consider the problem as part of a larger system and understanding the interconnectedness of various elements. Focuses on identifying the underlying causes, feedback loops, and interdependencies that influence the problem, and developing holistic solutions that address the system as a whole.\",\n",
    "        \"14. Use Risk Analysis: Evaluate potential risks, uncertainties, and tradeoffs associated with different solutions or approaches to a problem. Emphasize assessing the potential consequences and likelihood of success or failure, and making informed decisions based on a balanced analysis of risks and benefits.\",\n",
    "        #\"15. Use Reflective Thinking: Step back from the problem, take the time for introspection and self-reflection. Examine personal biases, assumptions, and mental models that may influence problem-solving, and being open to learning from past experiences to improve future approaches.\",\n",
    "        \"16. What is the core issue or problem that needs to be addressed?\",\n",
    "        \"17. What are the underlying causes or factors contributing to the problem?\",\n",
    "        \"18. Are there any potential solutions or strategies that have been tried before? If yes, what were the outcomes and lessons learned?\",\n",
    "        \"19. What are the potential obstacles or challenges that might arise in solving this problem?\",\n",
    "        \"20. Are there any relevant data or information that can provide insights into the problem? If yes, what data sources are available, and how can they be analyzed?\",\n",
    "        \"21. Are there any stakeholders or individuals who are directly affected by the problem? What are their perspectives and needs?\",\n",
    "        \"22. What resources (financial, human, technological, etc.) are needed to tackle the problem effectively?\",\n",
    "        \"23. How can progress or success in solving the problem be measured or evaluated?\",\n",
    "        \"24. What indicators or metrics can be used?\",\n",
    "        \"25. Is the problem a technical or practical one that requires a specific expertise or skill set? Or is it more of a conceptual or theoretical problem?\",\n",
    "        \"26. Does the problem involve a physical constraint, such as limited resources, infrastructure, or space?\",\n",
    "        \"27. Is the problem related to human behavior, such as a social, cultural, or psychological issue?\",\n",
    "        \"28. Does the problem involve decision-making or planning, where choices need to be made under uncertainty or with competing objectives?\",\n",
    "        \"29. Is the problem an analytical one that requires data analysis, modeling, or optimization techniques?\",\n",
    "        \"30. Is the problem a design challenge that requires creative solutions and innovation?\",\n",
    "        \"31. Does the problem require addressing systemic or structural issues rather than just individual instances?\",\n",
    "        \"32. Is the problem time-sensitive or urgent, requiring immediate attention and action?\",\n",
    "        \"33. What kinds of solution typically are produced for this kind of problem specification?\",\n",
    "        \"34. Given the problem specification and the current best solution, have a guess about other possible solutions.\"\n",
    "        \"35. Let’s imagine the current best solution is totally wrong, what other ways are there to think about the problem specification?\"\n",
    "        \"36. What is the best way to modify this current best solution, given what you know about these kinds of problem specification?\"\n",
    "        \"37. Ignoring the current best solution, create an entirely new solution to the problem.\"\n",
    "        #\"38. Let’s think step by step.\"\n",
    "        \"39. Let’s make a step by step plan and implement it with good notation and explanation.\"\n",
    "    ]"
   ]
  },
  {
   "cell_type": "code",
   "execution_count": 9,
   "id": "01adc682-f531-42ff-a885-db6e3b387248",
   "metadata": {},
   "outputs": [],
   "source": [
    "task_old = \"Lisa has 10 apples. She gives 3 apples to her friend and then buys 5 more apples from the store. How many apples does Lisa have now?\"\n",
    "\n",
    "task_example = \"\"\"Michael has 15 oranges. He gives 4 oranges to his brother and trades 3 oranges for 6 apples with his neighbor. \n",
    "Later in the day, he realizes some of his oranges are spoiled, so he discards 2 of them. \n",
    "Then, Michael goes to the market and buys 12 more oranges and 5 more apples. \n",
    "If Michael decides to give 2 apples to his friend, how many oranges and apples does Michael have now?\"\"\""
   ]
  },
  {
   "cell_type": "code",
   "execution_count": 10,
   "id": "a1a1a59c-9104-46bc-b316-10e1f472564a",
   "metadata": {},
   "outputs": [],
   "source": [
    "selected_modules = select_reasoning_modules(task_example, reasoning_modules)"
   ]
  },
  {
   "cell_type": "code",
   "execution_count": 20,
   "id": "9eab5d1c-e9d1-427c-816f-b9a290d0906e",
   "metadata": {},
   "outputs": [
    {
     "data": {
      "text/markdown": [
       "9.  \n",
       "10.  \n",
       "39."
      ],
      "text/plain": [
       "<IPython.core.display.Markdown object>"
      ]
     },
     "metadata": {},
     "output_type": "display_data"
    }
   ],
   "source": [
    "#print(\"Stage 1 SELECT: Selected Modules:\\n\", selected_modules)\n",
    "display_prompt(selected_modules)"
   ]
  },
  {
   "cell_type": "code",
   "execution_count": 12,
   "id": "7a75b638-7b65-4dda-8e33-345bf3786d5e",
   "metadata": {},
   "outputs": [
    {
     "data": {
      "text/markdown": [
       "Without working out the full solution, adapt the following reasoning modules to be specific to our task:\n",
       "9.  \n",
       "10.  \n",
       "39.\n",
       "\n",
       "Our task:\n",
       "Michael has 15 oranges. He gives 4 oranges to his brother and trades 3 oranges for 6 apples with his neighbor. \n",
       "Later in the day, he realizes some of his oranges are spoiled, so he discards 2 of them. \n",
       "Then, Michael goes to the market and buys 12 more oranges and 5 more apples. \n",
       "If Michael decides to give 2 apples to his friend, how many oranges and apples does Michael have now?"
      ],
      "text/plain": [
       "<IPython.core.display.Markdown object>"
      ]
     },
     "metadata": {},
     "output_type": "display_data"
    }
   ],
   "source": [
    "adapted_modules = adapt_reasoning_modules(selected_modules, task_example)"
   ]
  },
  {
   "cell_type": "code",
   "execution_count": 21,
   "id": "36dfea5f-265f-47e1-be08-b54a965a19f0",
   "metadata": {},
   "outputs": [
    {
     "data": {
      "text/markdown": [
       "We can adapt the reasoning modules (9, 10, and 39) to focus on **tracking changes in quantities** (oranges and apples) step by step, without calculating the full solution. Here's how each module could be adapted:\n",
       "\n",
       "---\n",
       "\n",
       "### **Module 9: Initial Inventory Tracking**  \n",
       "**Adapted for the task:**  \n",
       "Track the initial number of oranges and apples Michael has.  \n",
       "- Start with **15 oranges** and **0 apples** (since no apples are mentioned at the beginning).\n",
       "\n",
       "---\n",
       "\n",
       "### **Module 10: Transaction and Exchange Tracking**  \n",
       "**Adapted for the task:**  \n",
       "Track the changes due to giving away and trading.  \n",
       "- **Gives 4 oranges to his brother** → subtract 4 oranges.  \n",
       "- **Trades 3 oranges for 6 apples** → subtract 3 oranges and add 6 apples.  \n",
       "\n",
       "---\n",
       "\n",
       "### **Module 39: Adjustments and Purchases**  \n",
       "**Adapted for the task:**  \n",
       "Track the spoilage and subsequent purchases.  \n",
       "- **Discards 2 spoiled oranges** → subtract 2 oranges.  \n",
       "- **Buys 12 more oranges and 5 more apples** → add 12 oranges and 5 apples.  \n",
       "- **Gives 2 apples to his friend** → subtract 2 apples.  \n",
       "\n",
       "---\n",
       "\n",
       "### Summary of Adapted Modules Applied:\n",
       "- **Start with 15 oranges, 0 apples.**  \n",
       "- **After giving 4 oranges to brother:** 11 oranges, 0 apples.  \n",
       "- **After trading 3 oranges for 6 apples:** 8 oranges, 6 apples.  \n",
       "- **After discarding 2 spoiled oranges:** 6 oranges, 6 apples.  \n",
       "- **After buying 12 oranges and 5 apples:** 18 oranges, 11 apples.  \n",
       "- **After giving 2 apples to his friend:** 18 oranges, 9 apples.  \n",
       "\n",
       "---\n",
       "\n",
       "### Final Answer (without full solution):  \n",
       "Michael now has **18 oranges and 9 apples**."
      ],
      "text/plain": [
       "<IPython.core.display.Markdown object>"
      ]
     },
     "metadata": {},
     "output_type": "display_data"
    }
   ],
   "source": [
    "#print(\"\\nStage 1 ADAPT: Adapted Modules:\\n===\\n\", adapted_modules)\n",
    "display_prompt(adapted_modules)"
   ]
  },
  {
   "cell_type": "code",
   "execution_count": 14,
   "id": "35571d48-0e9e-4e6d-8cee-e7589e428b22",
   "metadata": {},
   "outputs": [
    {
     "data": {
      "text/markdown": [
       "Without working out the full solution, create an actionable reasoning structure for the task using these adapted reasoning modules:\n",
       "We can adapt the reasoning modules (9, 10, and 39) to focus on **tracking changes in quantities** (oranges and apples) step by step, without calculating the full solution. Here's how each module could be adapted:\n",
       "\n",
       "---\n",
       "\n",
       "### **Module 9: Initial Inventory Tracking**  \n",
       "**Adapted for the task:**  \n",
       "Track the initial number of oranges and apples Michael has.  \n",
       "- Start with **15 oranges** and **0 apples** (since no apples are mentioned at the beginning).\n",
       "\n",
       "---\n",
       "\n",
       "### **Module 10: Transaction and Exchange Tracking**  \n",
       "**Adapted for the task:**  \n",
       "Track the changes due to giving away and trading.  \n",
       "- **Gives 4 oranges to his brother** → subtract 4 oranges.  \n",
       "- **Trades 3 oranges for 6 apples** → subtract 3 oranges and add 6 apples.  \n",
       "\n",
       "---\n",
       "\n",
       "### **Module 39: Adjustments and Purchases**  \n",
       "**Adapted for the task:**  \n",
       "Track the spoilage and subsequent purchases.  \n",
       "- **Discards 2 spoiled oranges** → subtract 2 oranges.  \n",
       "- **Buys 12 more oranges and 5 more apples** → add 12 oranges and 5 apples.  \n",
       "- **Gives 2 apples to his friend** → subtract 2 apples.  \n",
       "\n",
       "---\n",
       "\n",
       "### Summary of Adapted Modules Applied:\n",
       "- **Start with 15 oranges, 0 apples.**  \n",
       "- **After giving 4 oranges to brother:** 11 oranges, 0 apples.  \n",
       "- **After trading 3 oranges for 6 apples:** 8 oranges, 6 apples.  \n",
       "- **After discarding 2 spoiled oranges:** 6 oranges, 6 apples.  \n",
       "- **After buying 12 oranges and 5 apples:** 18 oranges, 11 apples.  \n",
       "- **After giving 2 apples to his friend:** 18 oranges, 9 apples.  \n",
       "\n",
       "---\n",
       "\n",
       "### Final Answer (without full solution):  \n",
       "Michael now has **18 oranges and 9 apples**.\n",
       "\n",
       "Task Description:\n",
       "Michael has 15 oranges. He gives 4 oranges to his brother and trades 3 oranges for 6 apples with his neighbor. \n",
       "Later in the day, he realizes some of his oranges are spoiled, so he discards 2 of them. \n",
       "Then, Michael goes to the market and buys 12 more oranges and 5 more apples. \n",
       "If Michael decides to give 2 apples to his friend, how many oranges and apples does Michael have now?"
      ],
      "text/plain": [
       "<IPython.core.display.Markdown object>"
      ]
     },
     "metadata": {},
     "output_type": "display_data"
    }
   ],
   "source": [
    "reasoning_structure = implement_reasoning_structure(adapted_modules, task_example)"
   ]
  },
  {
   "cell_type": "code",
   "execution_count": 15,
   "id": "72dc3895-40db-4132-8fa2-9750fcda0aa3",
   "metadata": {},
   "outputs": [
    {
     "name": "stdout",
     "output_type": "stream",
     "text": [
      "\n",
      "Stage 1 IMPLEMENT: Reasoning Structure:\n",
      "====\n",
      " ### Actionable Reasoning Structure (Adapted Modules Applied Step-by-Step):\n",
      "\n",
      "---\n",
      "\n",
      "**1. Module 9: Initial Inventory Tracking**  \n",
      "- Michael starts with **15 oranges** and **0 apples**.\n",
      "\n",
      "---\n",
      "\n",
      "**2. Module 10: Transaction and Exchange Tracking**  \n",
      "- **Gives 4 oranges to his brother** → Oranges: 15 - 4 = 11  \n",
      "- **Trades 3 oranges for 6 apples** → Oranges: 11 - 3 = 8, Apples: 0 + 6 = 6\n",
      "\n",
      "---\n",
      "\n",
      "**3. Module 39: Adjustments and Purchases**  \n",
      "- **Discards 2 spoiled oranges** → Oranges: 8 - 2 = 6  \n",
      "- **Buys 12 more oranges and 5 more apples** → Oranges: 6 + 12 = 18, Apples: 6 + 5 = 11  \n",
      "- **Gives 2 apples to his friend** → Apples: 11 - 2 = 9\n",
      "\n",
      "---\n",
      "\n",
      "### Final State (Without Full Calculation):\n",
      "- **Oranges:** 18  \n",
      "- **Apples:** 9  \n",
      "\n",
      "---\n",
      "\n",
      "### Final Answer:\n",
      "Michael now has **18 oranges and 9 apples**.\n"
     ]
    }
   ],
   "source": [
    "print(\"\\nStage 1 IMPLEMENT: Reasoning Structure:\\n====\\n\", reasoning_structure)"
   ]
  },
  {
   "cell_type": "code",
   "execution_count": 16,
   "id": "9737f4e6-3469-4b83-8621-428a4e878e75",
   "metadata": {},
   "outputs": [
    {
     "data": {
      "text/markdown": [
       "Using the following reasoning structure: ### Actionable Reasoning Structure (Adapted Modules Applied Step-by-Step):\n",
       "\n",
       "---\n",
       "\n",
       "**1. Module 9: Initial Inventory Tracking**  \n",
       "- Michael starts with **15 oranges** and **0 apples**.\n",
       "\n",
       "---\n",
       "\n",
       "**2. Module 10: Transaction and Exchange Tracking**  \n",
       "- **Gives 4 oranges to his brother** → Oranges: 15 - 4 = 11  \n",
       "- **Trades 3 oranges for 6 apples** → Oranges: 11 - 3 = 8, Apples: 0 + 6 = 6\n",
       "\n",
       "---\n",
       "\n",
       "**3. Module 39: Adjustments and Purchases**  \n",
       "- **Discards 2 spoiled oranges** → Oranges: 8 - 2 = 6  \n",
       "- **Buys 12 more oranges and 5 more apples** → Oranges: 6 + 12 = 18, Apples: 6 + 5 = 11  \n",
       "- **Gives 2 apples to his friend** → Apples: 11 - 2 = 9\n",
       "\n",
       "---\n",
       "\n",
       "### Final State (Without Full Calculation):\n",
       "- **Oranges:** 18  \n",
       "- **Apples:** 9  \n",
       "\n",
       "---\n",
       "\n",
       "### Final Answer:\n",
       "Michael now has **18 oranges and 9 apples**.\n",
       "\n",
       "Solve this task, providing your final answer: Michael has 15 oranges. He gives 4 oranges to his brother and trades 3 oranges for 6 apples with his neighbor. \n",
       "Later in the day, he realizes some of his oranges are spoiled, so he discards 2 of them. \n",
       "Then, Michael goes to the market and buys 12 more oranges and 5 more apples. \n",
       "If Michael decides to give 2 apples to his friend, how many oranges and apples does Michael have now?"
      ],
      "text/plain": [
       "<IPython.core.display.Markdown object>"
      ]
     },
     "metadata": {},
     "output_type": "display_data"
    }
   ],
   "source": [
    "result = execute_reasoning_structure(reasoning_structure, task_example)"
   ]
  },
  {
   "cell_type": "code",
   "execution_count": null,
   "id": "7949c51c-6a3d-44a7-9057-56a89cf85afc",
   "metadata": {},
   "outputs": [],
   "source": []
  },
  {
   "cell_type": "code",
   "execution_count": 17,
   "id": "f38997a6-70d5-46c9-9f6c-3be2ad97dd5c",
   "metadata": {},
   "outputs": [
    {
     "name": "stdout",
     "output_type": "stream",
     "text": [
      "\n",
      "Stage 2: Final Result:\n",
      "\n"
     ]
    },
    {
     "data": {
      "text/markdown": [
       "Let's walk through the problem step-by-step using the **Actionable Reasoning Structure**:\n",
       "\n",
       "---\n",
       "\n",
       "### **1. Initial Inventory Tracking (Module 9)**  \n",
       "- Michael starts with:  \n",
       "  - **15 oranges**  \n",
       "  - **0 apples**\n",
       "\n",
       "---\n",
       "\n",
       "### **2. Transaction and Exchange Tracking (Module 10)**  \n",
       "- **Gives 4 oranges to his brother**  \n",
       "  - Oranges: 15 - 4 = **11**  \n",
       "- **Trades 3 oranges for 6 apples**  \n",
       "  - Oranges: 11 - 3 = **8**  \n",
       "  - Apples: 0 + 6 = **6**\n",
       "\n",
       "---\n",
       "\n",
       "### **3. Adjustments and Purchases (Module 39)**  \n",
       "- **Discards 2 spoiled oranges**  \n",
       "  - Oranges: 8 - 2 = **6**  \n",
       "- **Buys 12 more oranges and 5 more apples**  \n",
       "  - Oranges: 6 + 12 = **18**  \n",
       "  - Apples: 6 + 5 = **11**  \n",
       "- **Gives 2 apples to his friend**  \n",
       "  - Apples: 11 - 2 = **9**\n",
       "\n",
       "---\n",
       "\n",
       "### ✅ **Final State**  \n",
       "- **Oranges:** 18  \n",
       "- **Apples:** 9\n",
       "\n",
       "---\n",
       "\n",
       "### **Final Answer:**  \n",
       "Michael now has **18 oranges and 9 apples**."
      ],
      "text/plain": [
       "<IPython.core.display.Markdown object>"
      ]
     },
     "metadata": {},
     "output_type": "display_data"
    }
   ],
   "source": [
    "print(\"\\nStage 2: Final Result:\\n\", )\n",
    "display(Markdown(result))"
   ]
  },
  {
   "cell_type": "code",
   "execution_count": null,
   "id": "69a89add-119d-474d-84ba-17390de1bde6",
   "metadata": {},
   "outputs": [],
   "source": []
  }
 ],
 "metadata": {
  "kernelspec": {
   "display_name": "Python 3 (ipykernel)",
   "language": "python",
   "name": "python3"
  },
  "language_info": {
   "codemirror_mode": {
    "name": "ipython",
    "version": 3
   },
   "file_extension": ".py",
   "mimetype": "text/x-python",
   "name": "python",
   "nbconvert_exporter": "python",
   "pygments_lexer": "ipython3",
   "version": "3.10.12"
  }
 },
 "nbformat": 4,
 "nbformat_minor": 5
}
